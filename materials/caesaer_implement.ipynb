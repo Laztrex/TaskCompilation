{
 "cells": [
  {
   "cell_type": "code",
   "execution_count": 1,
   "metadata": {
    "collapsed": true,
    "pycharm": {
     "name": "#%%\n"
    }
   },
   "outputs": [],
   "source": [
    "from string import ascii_uppercase, punctuation\n",
    "import math\n",
    "import random\n",
    "import pandas as pd\n",
    "import numpy as np\n",
    "import matplotlib.pyplot as plt\n",
    "import scipy.stats as sts\n",
    "%matplotlib inline"
   ]
  },
  {
   "cell_type": "markdown",
   "source": [
    "# Аве, Цезарь! (Версия для Python 3)"
   ],
   "metadata": {
    "collapsed": false,
    "pycharm": {
     "name": "#%% md\n"
    }
   }
  },
  {
   "cell_type": "code",
   "execution_count": 2,
   "outputs": [],
   "source": [
    "def caesar(text, key, alphabet=ascii_uppercase):\n",
    "    secret_word = ''\n",
    "    for x in text.upper():\n",
    "        if x in alphabet:\n",
    "            secret_word += alphabet[(alphabet.find(x) + key) % len(alphabet)]\n",
    "    return secret_word"
   ],
   "metadata": {
    "collapsed": false,
    "pycharm": {
     "name": "#%%\n"
    }
   }
  },
  {
   "cell_type": "markdown",
   "source": [
    "## Test"
   ],
   "metadata": {
    "collapsed": false
   }
  },
  {
   "cell_type": "code",
   "execution_count": 3,
   "outputs": [
    {
     "data": {
      "text/plain": "'DYHFDHVDU'"
     },
     "execution_count": 3,
     "metadata": {},
     "output_type": "execute_result"
    }
   ],
   "source": [
    "caesar(text='Ave, Caesar', key=3)\n"
   ],
   "metadata": {
    "collapsed": false,
    "pycharm": {
     "name": "#%%\n"
    }
   }
  },
  {
   "cell_type": "markdown",
   "source": [
    "Попробуем взломать шифр Цезаря с помощью грубой силы"
   ],
   "metadata": {
    "collapsed": false
   }
  },
  {
   "cell_type": "code",
   "execution_count": 4,
   "outputs": [],
   "source": [
    "def bruteforce(text, alphabet=ascii_uppercase):\n",
    "    for i in reversed(range(0 - len(alphabet) + 1, 0)):\n",
    "        print(caesar(text, key=i, alphabet=alphabet))"
   ],
   "metadata": {
    "collapsed": false,
    "pycharm": {
     "name": "#%%\n"
    }
   }
  },
  {
   "cell_type": "markdown",
   "source": [
    "## Test"
   ],
   "metadata": {
    "collapsed": false
   }
  },
  {
   "cell_type": "code",
   "execution_count": 5,
   "outputs": [
    {
     "name": "stdout",
     "output_type": "stream",
     "text": [
      "РСБЛУЙЛФНРПНБУЁНБУЙЛЁЙРБКУПО\n",
      "ПРАКТИКУМПОМАТЕМАТИКЕИПАЙТОН\n",
      "ОПЯЙСЗЙТЛОНЛЯСДЛЯСЗЙДЗОЯИСНМ\n",
      "НОЮИРЖИСКНМКЮРГКЮРЖИГЖНЮЗРМЛ\n",
      "МНЭЗПЁЗРЙМЛЙЭПВЙЭПЁЗВЁМЭЖПЛК\n",
      "ЛМЬЖОЕЖПИЛКИЬОБИЬОЕЖБЕЛЬЁОКЙ\n",
      "КЛЫЁНДЁОЗКЙЗЫНАЗЫНДЁАДКЫЕНЙИ\n",
      "ЙКЪЕМГЕНЖЙИЖЪМЯЖЪМГЕЯГЙЪДМИЗ\n",
      "ИЙЩДЛВДМЁИЗЁЩЛЮЁЩЛВДЮВИЩГЛЗЖ\n",
      "ЗИШГКБГЛЕЗЖЕШКЭЕШКБГЭБЗШВКЖЁ\n",
      "ЖЗЧВЙАВКДЖЁДЧЙЬДЧЙАВЬАЖЧБЙЁЕ\n",
      "ЁЖЦБИЯБЙГЁЕГЦИЫГЦИЯБЫЯЁЦАИЕД\n",
      "ЕЁХАЗЮАИВЕДВХЗЪВХЗЮАЪЮЕХЯЗДГ\n",
      "ДЕФЯЖЭЯЗБДГБФЖЩБФЖЭЯЩЭДФЮЖГВ\n",
      "ГДУЮЁЬЮЖАГВАУЁШАУЁЬЮШЬГУЭЁВБ\n",
      "ВГТЭЕЫЭЁЯВБЯТЕЧЯТЕЫЭЧЫВТЬЕБА\n",
      "БВСЬДЪЬЕЮБАЮСДЦЮСДЪЬЦЪБСЫДАЯ\n",
      "АБРЫГЩЫДЭАЯЭРГХЭРГЩЫХЩАРЪГЯЮ\n",
      "ЯАПЪВШЪГЬЯЮЬПВФЬПВШЪФШЯПЩВЮЭ\n",
      "ЮЯОЩБЧЩВЫЮЭЫОБУЫОБЧЩУЧЮОШБЭЬ\n",
      "ЭЮНШАЦШБЪЭЬЪНАТЪНАЦШТЦЭНЧАЬЫ\n",
      "ЬЭМЧЯХЧАЩЬЫЩМЯСЩМЯХЧСХЬМЦЯЫЪ\n",
      "ЫЬЛЦЮФЦЯШЫЪШЛЮРШЛЮФЦРФЫЛХЮЪЩ\n",
      "ЪЫКХЭУХЮЧЪЩЧКЭПЧКЭУХПУЪКФЭЩШ\n",
      "ЩЪЙФЬТФЭЦЩШЦЙЬОЦЙЬТФОТЩЙУЬШЧ\n",
      "ШЩИУЫСУЬХШЧХИЫНХИЫСУНСШИТЫЧЦ\n",
      "ЧШЗТЪРТЫФЧЦФЗЪМФЗЪРТМРЧЗСЪЦХ\n",
      "ЦЧЖСЩПСЪУЦХУЖЩЛУЖЩПСЛПЦЖРЩХФ\n",
      "ХЦЁРШОРЩТХФТЁШКТЁШОРКОХЁПШФУ\n",
      "ФХЕПЧНПШСФУСЕЧЙСЕЧНПЙНФЕОЧУТ\n",
      "УФДОЦМОЧРУТРДЦИРДЦМОИМУДНЦТС\n",
      "ТУГНХЛНЦПТСПГХЗПГХЛНЗЛТГМХСР\n"
     ]
    }
   ],
   "source": [
    "bruteforce(text='СТВМФКМХОСРОВФЖОВФКМЖКСВЛФРП',\n",
    "           alphabet='АБВГДЕЁЖЗИЙКЛМНОПРСТУФХЦЧШЩЪЫЬЭЮЯ')\n"
   ],
   "metadata": {
    "collapsed": false,
    "pycharm": {
     "name": "#%%\n"
    }
   }
  },
  {
   "cell_type": "markdown",
   "source": [
    "jarriquez aka vijener"
   ],
   "metadata": {
    "collapsed": false,
    "pycharm": {
     "name": "#%% md\n"
    }
   }
  },
  {
   "cell_type": "code",
   "execution_count": null,
   "outputs": [],
   "source": [
    "def jarriquez_encryption(text, key, alphabet = 'ABCDEFGHIJKLMNOPQRSTUVWXYZ', reverse = False):\n",
    "    s = ''\n",
    "    for i in text.upper():\n",
    "        if i in alphabet:\n",
    "            k = int(str(key)[len(s) % len(str(key))])\n",
    "            if reverse:\n",
    "                k *= -1\n",
    "            s += alphabet[(alphabet.index(i) +  k) % len(alphabet)]\n",
    "    return s"
   ],
   "metadata": {
    "collapsed": false,
    "pycharm": {
     "name": "#%%\n"
    }
   }
  },
  {
   "cell_type": "markdown",
   "source": [
    "Создадим свой алфавит"
   ],
   "metadata": {
    "collapsed": false
   }
  },
  {
   "cell_type": "code",
   "execution_count": 6,
   "outputs": [],
   "source": [
    "from random import shuffle, seed\n",
    "\n",
    "def disc_generator(alphabet):\n",
    "    # seed(42)\n",
    "    list_str = list(alphabet)\n",
    "    shuffle(list_str)\n",
    "    return ''.join(list_str)\n"
   ],
   "metadata": {
    "collapsed": false,
    "pycharm": {
     "name": "#%%\n"
    }
   }
  },
  {
   "cell_type": "markdown",
   "source": [
    "## Test"
   ],
   "metadata": {
    "collapsed": false,
    "pycharm": {
     "name": "#%% md\n"
    }
   }
  },
  {
   "cell_type": "code",
   "execution_count": 7,
   "outputs": [
    {
     "data": {
      "text/plain": "'ГЩЙХЬТЮЯЭАНОЗСПКЧЪЕРБЛЫЦИЖМДШФВУ'"
     },
     "execution_count": 7,
     "metadata": {},
     "output_type": "execute_result"
    }
   ],
   "source": [
    "disc_generator('АБВГДЕЖЗИЙКЛМНОПРСТУФХЦЧШЩЪЫЬЭЮЯ')\n"
   ],
   "metadata": {
    "collapsed": false,
    "pycharm": {
     "name": "#%%\n"
    }
   }
  },
  {
   "cell_type": "markdown",
   "source": [
    "Реализуем Цилиндр Джеферсона"
   ],
   "metadata": {
    "collapsed": false,
    "pycharm": {
     "name": "#%% md\n"
    }
   }
  },
  {
   "cell_type": "code",
   "execution_count": 8,
   "outputs": [],
   "source": [
    "def jefferson_encryption(text, discs, step, n, clear_alphabet=ascii_uppercase, reverse=False):\n",
    "    text = ''.join([i for i in text.upper() if i in clear_alphabet])\n",
    "    return ''.join([caesar(text[i],step*(1,-1)[reverse],discs[i % n]) for i in range(len(text))])\n"
   ],
   "metadata": {
    "collapsed": false,
    "pycharm": {
     "name": "#%%\n"
    }
   }
  },
  {
   "cell_type": "markdown",
   "source": [
    "## Test"
   ],
   "metadata": {
    "collapsed": false
   }
  },
  {
   "cell_type": "code",
   "execution_count": 11,
   "outputs": [
    {
     "data": {
      "text/plain": "'ЖББЩЯЖОТАДОЫЯЩЛШЛМЭЗЗФЭЙЙТЕЮЫЛСТЗИТИШЪЧЧЫМЙШСДФЪГКЖЗЗРЙАБНТЖЪЛЪСЦЪВГЩЩЫШООМЯ'"
     },
     "execution_count": 11,
     "metadata": {},
     "output_type": "execute_result"
    }
   ],
   "source": [
    "clear_alphabet = 'АБВГДЕЖЗИЙКЛМНОПРСТУФХЦЧШЩЪЫЬЭЮЯ'\n",
    "n = 36\n",
    "discs = [disc_generator(clear_alphabet) for i in range(n)]\n",
    "\n",
    "jefferson_encryption(text='Съешь еще этих мягких французских булок. Кстати, в этом тексте пришлось заменить одну букву...',\n",
    "                     discs=discs,\n",
    "                     step=4,\n",
    "                     n=n,\n",
    "                     clear_alphabet=clear_alphabet)"
   ],
   "metadata": {
    "collapsed": false,
    "pycharm": {
     "name": "#%%\n"
    }
   }
  }
 ],
 "metadata": {
  "kernelspec": {
   "display_name": "Python 3",
   "language": "python",
   "name": "python3"
  },
  "language_info": {
   "codemirror_mode": {
    "name": "ipython",
    "version": 2
   },
   "file_extension": ".py",
   "mimetype": "text/x-python",
   "name": "python",
   "nbconvert_exporter": "python",
   "pygments_lexer": "ipython2",
   "version": "2.7.6"
  }
 },
 "nbformat": 4,
 "nbformat_minor": 0
}