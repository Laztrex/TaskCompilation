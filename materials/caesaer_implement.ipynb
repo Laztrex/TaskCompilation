{
 "cells": [
  {
   "cell_type": "code",
   "execution_count": 1,
   "metadata": {
    "collapsed": true,
    "pycharm": {
     "name": "#%%\n"
    }
   },
   "outputs": [],
   "source": [
    "from string import ascii_uppercase, punctuation\n",
    "import math\n",
    "import random\n",
    "import pandas as pd\n",
    "import numpy as np\n",
    "import matplotlib.pyplot as plt\n",
    "import scipy.stats as sts\n",
    "%matplotlib inline"
   ]
  },
  {
   "cell_type": "markdown",
   "source": [
    "# Аве, Цезарь! (Версия для Python 3)"
   ],
   "metadata": {
    "collapsed": false,
    "pycharm": {
     "name": "#%% md\n"
    }
   }
  },
  {
   "cell_type": "markdown",
   "source": [
    "Шифр Цезаря — это вид шифра подстановки, в котором каждый символ в открытом тексте заменяется символом, находящимся на некотором постоянном числе позиций левее или правее него в алфавите.\n",
    "\n",
    "y = (x + k) \\ mod  n\n",
    "x = (y - k) \\ mod n,\n",
    "где x — символ открытого текста, y — символ шифрованного текста, n — мощность алфавита, k — ключ.\n",
    "\n",
    "Реализуем функцию caesar.\n",
    "* text - исходное сообщение\n",
    "* key - сдвиг (ключ)"
   ],
   "metadata": {
    "collapsed": false
   }
  },
  {
   "cell_type": "code",
   "execution_count": 2,
   "outputs": [],
   "source": [
    "def caesar(text, key, alphabet=ascii_uppercase):\n",
    "    secret_word = ''\n",
    "    for char in text.upper():\n",
    "        if char in alphabet:\n",
    "            secret_word += alphabet[(alphabet.find(char) + key) % len(alphabet)]\n",
    "    return secret_word"
   ],
   "metadata": {
    "collapsed": false,
    "pycharm": {
     "name": "#%%\n"
    }
   }
  },
  {
   "cell_type": "markdown",
   "source": [
    "Проверим работу функции."
   ],
   "metadata": {
    "collapsed": false
   }
  },
  {
   "cell_type": "code",
   "execution_count": 12,
   "outputs": [
    {
     "name": "stdout",
     "output_type": "stream",
     "text": [
      "encrypted: DYHFDHVDU, \n",
      "decrypted: AVECAESAR\n"
     ]
    }
   ],
   "source": [
    "enc_text = caesar(text='Ave, Caesar', key=3)\n",
    "dec_text = caesar(text=enc_text, key=-3)\n",
    "print(f\"encrypted: {enc_text}, \\ndecrypted: {dec_text}\")"
   ],
   "metadata": {
    "collapsed": false,
    "pycharm": {
     "name": "#%%\n"
    }
   }
  },
  {
   "cell_type": "markdown",
   "source": [
    "Попробуем взломать шифр Цезаря с помощью грубой силы.\n",
    "Напишем для этого функцию _bruteforce_"
   ],
   "metadata": {
    "collapsed": false
   }
  },
  {
   "cell_type": "code",
   "execution_count": 13,
   "outputs": [],
   "source": [
    "def bruteforce(text, alphabet=ascii_uppercase):\n",
    "    for shift in reversed(range(0 - len(alphabet) + 1, 0)):\n",
    "        print(caesar(text, key=shift, alphabet=alphabet))"
   ],
   "metadata": {
    "collapsed": false,
    "pycharm": {
     "name": "#%%\n"
    }
   }
  },
  {
   "cell_type": "markdown",
   "source": [
    "Проверим работоспособность."
   ],
   "metadata": {
    "collapsed": false
   }
  },
  {
   "cell_type": "code",
   "execution_count": 14,
   "outputs": [
    {
     "name": "stdout",
     "output_type": "stream",
     "text": [
      "РСБЛУЙЛФНРПНБУЁНБУЙЛЁЙРБКУПО\n",
      "ПРАКТИКУМПОМАТЕМАТИКЕИПАЙТОН\n",
      "ОПЯЙСЗЙТЛОНЛЯСДЛЯСЗЙДЗОЯИСНМ\n",
      "НОЮИРЖИСКНМКЮРГКЮРЖИГЖНЮЗРМЛ\n",
      "МНЭЗПЁЗРЙМЛЙЭПВЙЭПЁЗВЁМЭЖПЛК\n",
      "ЛМЬЖОЕЖПИЛКИЬОБИЬОЕЖБЕЛЬЁОКЙ\n",
      "КЛЫЁНДЁОЗКЙЗЫНАЗЫНДЁАДКЫЕНЙИ\n",
      "ЙКЪЕМГЕНЖЙИЖЪМЯЖЪМГЕЯГЙЪДМИЗ\n",
      "ИЙЩДЛВДМЁИЗЁЩЛЮЁЩЛВДЮВИЩГЛЗЖ\n",
      "ЗИШГКБГЛЕЗЖЕШКЭЕШКБГЭБЗШВКЖЁ\n",
      "ЖЗЧВЙАВКДЖЁДЧЙЬДЧЙАВЬАЖЧБЙЁЕ\n",
      "ЁЖЦБИЯБЙГЁЕГЦИЫГЦИЯБЫЯЁЦАИЕД\n",
      "ЕЁХАЗЮАИВЕДВХЗЪВХЗЮАЪЮЕХЯЗДГ\n",
      "ДЕФЯЖЭЯЗБДГБФЖЩБФЖЭЯЩЭДФЮЖГВ\n",
      "ГДУЮЁЬЮЖАГВАУЁШАУЁЬЮШЬГУЭЁВБ\n",
      "ВГТЭЕЫЭЁЯВБЯТЕЧЯТЕЫЭЧЫВТЬЕБА\n",
      "БВСЬДЪЬЕЮБАЮСДЦЮСДЪЬЦЪБСЫДАЯ\n",
      "АБРЫГЩЫДЭАЯЭРГХЭРГЩЫХЩАРЪГЯЮ\n",
      "ЯАПЪВШЪГЬЯЮЬПВФЬПВШЪФШЯПЩВЮЭ\n",
      "ЮЯОЩБЧЩВЫЮЭЫОБУЫОБЧЩУЧЮОШБЭЬ\n",
      "ЭЮНШАЦШБЪЭЬЪНАТЪНАЦШТЦЭНЧАЬЫ\n",
      "ЬЭМЧЯХЧАЩЬЫЩМЯСЩМЯХЧСХЬМЦЯЫЪ\n",
      "ЫЬЛЦЮФЦЯШЫЪШЛЮРШЛЮФЦРФЫЛХЮЪЩ\n",
      "ЪЫКХЭУХЮЧЪЩЧКЭПЧКЭУХПУЪКФЭЩШ\n",
      "ЩЪЙФЬТФЭЦЩШЦЙЬОЦЙЬТФОТЩЙУЬШЧ\n",
      "ШЩИУЫСУЬХШЧХИЫНХИЫСУНСШИТЫЧЦ\n",
      "ЧШЗТЪРТЫФЧЦФЗЪМФЗЪРТМРЧЗСЪЦХ\n",
      "ЦЧЖСЩПСЪУЦХУЖЩЛУЖЩПСЛПЦЖРЩХФ\n",
      "ХЦЁРШОРЩТХФТЁШКТЁШОРКОХЁПШФУ\n",
      "ФХЕПЧНПШСФУСЕЧЙСЕЧНПЙНФЕОЧУТ\n",
      "УФДОЦМОЧРУТРДЦИРДЦМОИМУДНЦТС\n",
      "ТУГНХЛНЦПТСПГХЗПГХЛНЗЛТГМХСР\n"
     ]
    }
   ],
   "source": [
    "bruteforce(text='СТВМФКМХОСРОВФЖОВФКМЖКСВЛФРП',\n",
    "           alphabet='АБВГДЕЁЖЗИЙКЛМНОПРСТУФХЦЧШЩЪЫЬЭЮЯ')\n"
   ],
   "metadata": {
    "collapsed": false,
    "pycharm": {
     "name": "#%%\n"
    }
   }
  },
  {
   "cell_type": "markdown",
   "source": [
    "Расширим шифр Цезаря. Пусть число (key) стостоит из нескольких цифр. Потом\n",
    "\"_...возьмем азбуку и будем заменять каждую букву нашей фразы той буквой, которая стоит после нее в алфавитном порядке на месте, указанном цифрой._\"\n",
    "\n",
    "Реализуем функцию jarriquez aka vijener"
   ],
   "metadata": {
    "collapsed": false,
    "pycharm": {
     "name": "#%% md\n"
    }
   }
  },
  {
   "cell_type": "code",
   "execution_count": 15,
   "outputs": [],
   "source": [
    "def jarriquez_encryption(text, key, alphabet = 'ABCDEFGHIJKLMNOPQRSTUVWXYZ', reverse = False):\n",
    "    secret_word = ''\n",
    "    for char in text.upper():\n",
    "        if char in alphabet:\n",
    "            k = int(str(key)[len(secret_word) % len(str(key))])\n",
    "            if reverse:\n",
    "                k *= -1\n",
    "            secret_word += alphabet[(alphabet.index(char) +  k) % len(alphabet)]\n",
    "    return secret_word"
   ],
   "metadata": {
    "collapsed": false,
    "pycharm": {
     "name": "#%%\n"
    }
   }
  },
  {
   "cell_type": "markdown",
   "source": [
    "Проверим."
   ],
   "metadata": {
    "collapsed": false
   }
  },
  {
   "cell_type": "code",
   "execution_count": 16,
   "outputs": [
    {
     "data": {
      "text/plain": "'ЧУЦИЮЛКВУФКНЙУГУТССКЩДФИПЮРЯЛЦР'"
     },
     "execution_count": 16,
     "metadata": {},
     "output_type": "execute_result"
    }
   ],
   "source": [
    "jarriquez_encryption('У СУДЬИ ЖАРРИКЕСА ПРОНИЦАТЕЛЬНЫЙ УМ',\n",
    "                     423,\n",
    "                     'АБВГДЕЖЗИЙКЛМНОПРСТУФХЦЧШЩЪЫЬЭЮЯ')"
   ],
   "metadata": {
    "collapsed": false,
    "pycharm": {
     "name": "#%%\n"
    }
   }
  },
  {
   "cell_type": "markdown",
   "source": [
    "Создадим свой алфавит"
   ],
   "metadata": {
    "collapsed": false
   }
  },
  {
   "cell_type": "code",
   "execution_count": 6,
   "outputs": [],
   "source": [
    "from random import shuffle, seed\n",
    "\n",
    "def disc_generator(alphabet):\n",
    "    # seed(42)\n",
    "    list_str = list(alphabet)\n",
    "    shuffle(list_str)\n",
    "    return ''.join(list_str)\n"
   ],
   "metadata": {
    "collapsed": false,
    "pycharm": {
     "name": "#%%\n"
    }
   }
  },
  {
   "cell_type": "markdown",
   "source": [
    "## Test"
   ],
   "metadata": {
    "collapsed": false,
    "pycharm": {
     "name": "#%% md\n"
    }
   }
  },
  {
   "cell_type": "code",
   "execution_count": 7,
   "outputs": [
    {
     "data": {
      "text/plain": "'ГЩЙХЬТЮЯЭАНОЗСПКЧЪЕРБЛЫЦИЖМДШФВУ'"
     },
     "execution_count": 7,
     "metadata": {},
     "output_type": "execute_result"
    }
   ],
   "source": [
    "disc_generator('АБВГДЕЖЗИЙКЛМНОПРСТУФХЦЧШЩЪЫЬЭЮЯ')\n"
   ],
   "metadata": {
    "collapsed": false,
    "pycharm": {
     "name": "#%%\n"
    }
   }
  },
  {
   "cell_type": "markdown",
   "source": [
    "Реализуем [Цилиндр Джеферсона](https://cutt.ly/7fB3M4D)"
   ],
   "metadata": {
    "collapsed": false,
    "pycharm": {
     "name": "#%% md\n"
    }
   }
  },
  {
   "cell_type": "code",
   "execution_count": 8,
   "outputs": [],
   "source": [
    "def jefferson_encryption(text, discs, step, n, clear_alphabet=ascii_uppercase, reverse=False):\n",
    "    text = ''.join([i for i in text.upper() if i in clear_alphabet])\n",
    "    return ''.join([caesar(text[i],step*(1,-1)[reverse],discs[i % n]) for i in range(len(text))])\n"
   ],
   "metadata": {
    "collapsed": false,
    "pycharm": {
     "name": "#%%\n"
    }
   }
  },
  {
   "cell_type": "markdown",
   "source": [
    "Протестируем функцию."
   ],
   "metadata": {
    "collapsed": false
   }
  },
  {
   "cell_type": "code",
   "execution_count": 11,
   "outputs": [
    {
     "data": {
      "text/plain": "'ЖББЩЯЖОТАДОЫЯЩЛШЛМЭЗЗФЭЙЙТЕЮЫЛСТЗИТИШЪЧЧЫМЙШСДФЪГКЖЗЗРЙАБНТЖЪЛЪСЦЪВГЩЩЫШООМЯ'"
     },
     "execution_count": 11,
     "metadata": {},
     "output_type": "execute_result"
    }
   ],
   "source": [
    "clear_alphabet = 'АБВГДЕЖЗИЙКЛМНОПРСТУФХЦЧШЩЪЫЬЭЮЯ'\n",
    "n = 36\n",
    "discs = [disc_generator(clear_alphabet) for i in range(n)]\n",
    "\n",
    "jefferson_encryption(text='Съешь еще этих мягких французских булок. Кстати, в этом тексте пришлось заменить одну букву...',\n",
    "                     discs=discs,\n",
    "                     step=4,\n",
    "                     n=n,\n",
    "                     clear_alphabet=clear_alphabet)"
   ],
   "metadata": {
    "collapsed": false,
    "pycharm": {
     "name": "#%%\n"
    }
   }
  },
  {
   "cell_type": "markdown",
   "source": [
    "И в завершении реализуем функцию шифрования, упомянутую в рассказе\n",
    "Эдгара Аллана По - [Золотой жук](https://cutt.ly/OfB36nY)"
   ],
   "metadata": {
    "collapsed": false
   }
  },
  {
   "cell_type": "code",
   "execution_count": 17,
   "outputs": [],
   "source": [
    "def kidds_encryption(text, reverse=False):\n",
    "    letter = list('ethosnairfdlmbyguvcp')\n",
    "    symbol = list('8;4‡)*56(1†092:3?¶-.')\n",
    "    if reverse:\n",
    "        letter, symbol = symbol, letter\n",
    "    return ''.join([symbol[letter.index(char)] for char in text.lower() if char in letter])"
   ],
   "metadata": {
    "collapsed": false,
    "pycharm": {
     "name": "#%%\n"
    }
   }
  },
  {
   "cell_type": "markdown",
   "source": [
    "Протестируем функцию."
   ],
   "metadata": {
    "collapsed": false
   }
  },
  {
   "cell_type": "code",
   "execution_count": 20,
   "outputs": [
    {
     "name": "stdout",
     "output_type": "stream",
     "text": [
      "encrypted: 6*;48†8¶60))85;1‡(;:‡*8†83(88), \n",
      "decrypted: inthedevilsseatfortyonedegrees\n"
     ]
    }
   ],
   "source": [
    "enc_text = kidds_encryption(text=\"in the devil's seat forty-one degrees\")\n",
    "dec_text = kidds_encryption(text=enc_text, reverse=True)\n",
    "print(f\"encrypted: {enc_text}, \\ndecrypted: {dec_text}\")"
   ],
   "metadata": {
    "collapsed": false,
    "pycharm": {
     "name": "#%%\n"
    }
   }
  }
 ],
 "metadata": {
  "kernelspec": {
   "display_name": "Python 3",
   "language": "python",
   "name": "python3"
  },
  "language_info": {
   "codemirror_mode": {
    "name": "ipython",
    "version": 2
   },
   "file_extension": ".py",
   "mimetype": "text/x-python",
   "name": "python",
   "nbconvert_exporter": "python",
   "pygments_lexer": "ipython2",
   "version": "2.7.6"
  }
 },
 "nbformat": 4,
 "nbformat_minor": 0
}